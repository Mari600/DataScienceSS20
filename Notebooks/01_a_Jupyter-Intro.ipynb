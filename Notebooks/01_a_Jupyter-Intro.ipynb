{
  "nbformat": 4,
  "nbformat_minor": 0,
  "metadata": {
    "kernelspec": {
      "display_name": "Python 3",
      "language": "python",
      "name": "python3"
    },
    "language_info": {
      "codemirror_mode": {
        "name": "ipython",
        "version": 3
      },
      "file_extension": ".py",
      "mimetype": "text/x-python",
      "name": "python",
      "nbconvert_exporter": "python",
      "pygments_lexer": "ipython3",
      "version": "3.7.1"
    },
    "colab": {
      "name": "01_a_Jupyter-Intro.ipynb",
      "provenance": []
    }
  },
  "cells": [
    {
      "cell_type": "markdown",
      "metadata": {
        "id": "9rdr9jKKrl9C",
        "colab_type": "text"
      },
      "source": [
        "# Jupyter Lab - Web IDE \n",
        "* By Janis Keuper\n",
        "* Copyright: Creative Commons Attribution 3.0 Unported License. To view a copy of this license, visit http://creativecommons.org/licenses/by/3.0/"
      ]
    },
    {
      "cell_type": "code",
      "metadata": {
        "id": "_z1HFaKprl9F",
        "colab_type": "code",
        "colab": {
          "base_uri": "https://localhost:8080/",
          "height": 164
        },
        "outputId": "d5fd30d1-85bf-4873-bfa5-4948511e82dc"
      },
      "source": [
        "#check if notebook runs in colab\n",
        "import sys\n",
        "IN_COLAB = 'google.colab' in sys.modules\n",
        "print('running in Colab:',IN_COLAB)\n",
        "path='..'\n",
        "if IN_COLAB:\n",
        "  #in colab, we need to clone the data from the repo\n",
        "  !git clone https://github.com/keuperj/DataScienceSS20.git\n",
        "  path='DataScienceSS20'"
      ],
      "execution_count": 1,
      "outputs": [
        {
          "output_type": "stream",
          "text": [
            "running in Colab: True\n",
            "Cloning into 'DataScienceSS20'...\n",
            "remote: Enumerating objects: 85, done.\u001b[K\n",
            "remote: Counting objects: 100% (85/85), done.\u001b[K\n",
            "remote: Compressing objects: 100% (74/74), done.\u001b[K\n",
            "remote: Total 237 (delta 12), reused 79 (delta 10), pack-reused 152\u001b[K\n",
            "Receiving objects: 100% (237/237), 45.44 MiB | 25.18 MiB/s, done.\n",
            "Resolving deltas: 100% (77/77), done.\n"
          ],
          "name": "stdout"
        }
      ]
    },
    {
      "cell_type": "code",
      "metadata": {
        "id": "NxrxPdwqrl9V",
        "colab_type": "code",
        "colab": {}
      },
      "source": [
        "print(\"hello\")"
      ],
      "execution_count": 0,
      "outputs": []
    },
    {
      "cell_type": "markdown",
      "metadata": {
        "id": "p1EtyrP5rl9f",
        "colab_type": "text"
      },
      "source": [
        "## Live Demo \n",
        "* Files\n",
        "* Notebooks\n",
        "* Terminal\n",
        "* Kernels\n",
        "* Keyboard Shortcuts\n",
        "* Save and Export"
      ]
    },
    {
      "cell_type": "markdown",
      "metadata": {
        "id": "B8MZFEKDrl9g",
        "colab_type": "text"
      },
      "source": [
        "## Cells\n",
        "* Code vs Markup\n",
        "* Execute Cells"
      ]
    },
    {
      "cell_type": "markdown",
      "metadata": {
        "id": "m3IYrYgerl9k",
        "colab_type": "text"
      },
      "source": [
        "## Markup Cells"
      ]
    },
    {
      "cell_type": "markdown",
      "metadata": {
        "id": "Qei-aPiWrl9l",
        "colab_type": "text"
      },
      "source": [
        "### Jupyter Markup\n"
      ]
    },
    {
      "cell_type": "markdown",
      "metadata": {
        "id": "fIqHaPv8rl9n",
        "colab_type": "text"
      },
      "source": [
        "#### Headings\n",
        "``` \n",
        "# Heading 1\n",
        "# Heading 2\n",
        "## Heading 2.1\n",
        "## Heading 2.2\n",
        "```\n"
      ]
    },
    {
      "cell_type": "markdown",
      "metadata": {
        "id": "EBFgYu_krl9o",
        "colab_type": "text"
      },
      "source": [
        "#### Lists\n",
        "* a\n",
        "* bullet point list"
      ]
    },
    {
      "cell_type": "markdown",
      "metadata": {
        "id": "GgGVE1DWrl9q",
        "colab_type": "text"
      },
      "source": [
        "1. numbered\n",
        "2. list\n",
        "3. is possible"
      ]
    },
    {
      "cell_type": "markdown",
      "metadata": {
        "id": "VhCYh5ZVrl9q",
        "colab_type": "text"
      },
      "source": [
        "#### Text Formating\n",
        "* *Italic*\n",
        "* **blod**\n",
        "* ***bold and italic***"
      ]
    },
    {
      "cell_type": "markdown",
      "metadata": {
        "id": "cl9or5i7rl9s",
        "colab_type": "text"
      },
      "source": [
        "#### Tables\n",
        "| This | is   |\n",
        "|------|------|\n",
        "|   a  | table|"
      ]
    },
    {
      "cell_type": "markdown",
      "metadata": {
        "id": "uErvXtr0rl9z",
        "colab_type": "text"
      },
      "source": [
        "#### Latex Formulars \n",
        "You can write formulars in text, like $e^{i\\pi} + 1 = 0$.\n",
        "\n",
        "Or block equations\n",
        "\n",
        "$$e^x=\\sum_{i=0}^\\infty \\frac{1}{i!}x^i$$"
      ]
    },
    {
      "cell_type": "markdown",
      "metadata": {
        "id": "JvQlhfaCrl91",
        "colab_type": "text"
      },
      "source": [
        "#### Links\n",
        "Add links, like one to more information on latex [link](https://www.overleaf.com/learn/latex/Free_online_introduction_to_LaTeX_(part_1))"
      ]
    },
    {
      "cell_type": "markdown",
      "metadata": {
        "id": "u48B6cZXrl93",
        "colab_type": "text"
      },
      "source": [
        "#### HTML\n",
        "or simply write HTML code:\n",
        "\n",
        "<H3> HTML test</H3>\n",
        "<img src=\"https://github.com/Mari600/DataScienceSS20/blob/master/Notebooks/IMG/jupyter_logo.png?raw=1\" width=300>"
      ]
    },
    {
      "cell_type": "markdown",
      "metadata": {
        "id": "SWAMmObWrl94",
        "colab_type": "text"
      },
      "source": [
        "#### Source Code\n",
        "Python:\n",
        "```python\n",
        "print \"Hello World\"\n",
        "```\n",
        "\n",
        "Java Script\n",
        "```javascript\n",
        "console.log(\"Hello World\")\n",
        "```\n"
      ]
    },
    {
      "cell_type": "markdown",
      "metadata": {
        "id": "hlle5Pcurl95",
        "colab_type": "text"
      },
      "source": [
        "## Code Cells"
      ]
    },
    {
      "cell_type": "code",
      "metadata": {
        "id": "yzCrSVPHrl96",
        "colab_type": "code",
        "colab": {}
      },
      "source": [
        "print (\"this is python code\")"
      ],
      "execution_count": 0,
      "outputs": []
    },
    {
      "cell_type": "markdown",
      "metadata": {
        "id": "VZ-8E0Lorl-D",
        "colab_type": "text"
      },
      "source": [
        "#### Autocompletion "
      ]
    },
    {
      "cell_type": "code",
      "metadata": {
        "id": "SBK56kBwrl-E",
        "colab_type": "code",
        "colab": {}
      },
      "source": [
        "a = \"This is a STRING\""
      ],
      "execution_count": 0,
      "outputs": []
    },
    {
      "cell_type": "code",
      "metadata": {
        "id": "M-fHHS3Drl-J",
        "colab_type": "code",
        "colab": {}
      },
      "source": [
        "# press tab to see the available methods \n",
        "a.l"
      ],
      "execution_count": 0,
      "outputs": []
    },
    {
      "cell_type": "markdown",
      "metadata": {
        "id": "V9fB0pTsrl-P",
        "colab_type": "text"
      },
      "source": [
        "#### API Documentation and Help"
      ]
    },
    {
      "cell_type": "code",
      "metadata": {
        "id": "niKFHVntrl-Q",
        "colab_type": "code",
        "colab": {}
      },
      "source": [
        "# add '?' in front of call\n"
      ],
      "execution_count": 0,
      "outputs": []
    },
    {
      "cell_type": "markdown",
      "metadata": {
        "id": "AQLhRUHFrl-Z",
        "colab_type": "text"
      },
      "source": [
        "## System Calls\n",
        "Call OS cmd-line tools via the \"!\" opperator:"
      ]
    },
    {
      "cell_type": "code",
      "metadata": {
        "id": "Ek09HS51rl-b",
        "colab_type": "code",
        "colab": {}
      },
      "source": [
        "!ls -lha"
      ],
      "execution_count": 0,
      "outputs": []
    },
    {
      "cell_type": "markdown",
      "metadata": {
        "id": "LZoWCABurl-g",
        "colab_type": "text"
      },
      "source": [
        "## Magic-Commands\n",
        "Jupyter has build in, so-called \"magic commands\" (full list [https://ipython.readthedocs.io/en/stable/interactive/magics.html](here))"
      ]
    },
    {
      "cell_type": "code",
      "metadata": {
        "id": "YqiaaYt7rl-h",
        "colab_type": "code",
        "colab": {}
      },
      "source": [
        "#single runtime \n",
        "%time \n",
        "for i in range(1000):\n",
        "    pass"
      ],
      "execution_count": 0,
      "outputs": []
    },
    {
      "cell_type": "code",
      "metadata": {
        "id": "gr8CVr-wrl-m",
        "colab_type": "code",
        "colab": {}
      },
      "source": [
        "#runtime test\n",
        "%timeit a=34*56"
      ],
      "execution_count": 0,
      "outputs": []
    },
    {
      "cell_type": "code",
      "metadata": {
        "id": "Z1giT2NJrl-s",
        "colab_type": "code",
        "colab": {}
      },
      "source": [
        "# load the autoreload extension\n",
        "%load_ext autoreload\n",
        "# Set extension to reload modules every time before executing code\n",
        "%autoreload 2\n"
      ],
      "execution_count": 0,
      "outputs": []
    },
    {
      "cell_type": "code",
      "metadata": {
        "id": "dLK54UF5rl-x",
        "colab_type": "code",
        "colab": {}
      },
      "source": [
        "a=5\n",
        "f=\"test\"\n",
        "# Outputs a list of all interactive variables in your environment\n",
        "%who_ls"
      ],
      "execution_count": 0,
      "outputs": []
    },
    {
      "cell_type": "code",
      "metadata": {
        "id": "nji7y3UZrl-2",
        "colab_type": "code",
        "colab": {}
      },
      "source": [
        "# Reduces the output to interactive variables of type \"function\"\n",
        "%who_ls function"
      ],
      "execution_count": 0,
      "outputs": []
    },
    {
      "cell_type": "code",
      "metadata": {
        "id": "Wnmva1Surl-7",
        "colab_type": "code",
        "colab": {}
      },
      "source": [
        ""
      ],
      "execution_count": 0,
      "outputs": []
    }
  ]
}